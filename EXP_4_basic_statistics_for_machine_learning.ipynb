{
  "nbformat": 4,
  "nbformat_minor": 0,
  "metadata": {
    "colab": {
      "name": "EXP -4 basic statistics for machine learning",
      "provenance": [],
      "collapsed_sections": [],
      "toc_visible": true,
      "authorship_tag": "ABX9TyPo4KTQVfaQ1QNPTrqMtife",
      "include_colab_link": true
    },
    "kernelspec": {
      "name": "python3",
      "display_name": "Python 3"
    }
  },
  "cells": [
    {
      "cell_type": "markdown",
      "metadata": {
        "id": "view-in-github",
        "colab_type": "text"
      },
      "source": [
        "<a href=\"https://colab.research.google.com/github/19PA1A02A1/AI--lab/blob/master/EXP_4_basic_statistics_for_machine_learning.ipynb\" target=\"_parent\"><img src=\"https://colab.research.google.com/assets/colab-badge.svg\" alt=\"Open In Colab\"/></a>"
      ]
    },
    {
      "cell_type": "markdown",
      "metadata": {
        "id": "frehWTUX0qTy"
      },
      "source": [
        "#\"Experiment No 4 : Basic statistics for machine learning\""
      ]
    },
    {
      "cell_type": "code",
      "metadata": {
        "id": "80XXoL9o0wRA"
      },
      "source": [
        "import numpy as np\n",
        "import pandas as pd\n",
        "import seaborn as sns\n",
        "import matplotlib.pyplot as plt"
      ],
      "execution_count": 1,
      "outputs": []
    },
    {
      "cell_type": "code",
      "metadata": {
        "id": "A25-FlMl01hd",
        "outputId": "6b64a8c1-27b4-4dd7-fd84-46ddda1387e7",
        "colab": {
          "base_uri": "https://localhost:8080/",
          "height": 241
        }
      },
      "source": [
        "df=pd.read_csv(\"students_placement_data.csv\")\n",
        "df.head()"
      ],
      "execution_count": 2,
      "outputs": [
        {
          "output_type": "execute_result",
          "data": {
            "text/html": [
              "<div>\n",
              "<style scoped>\n",
              "    .dataframe tbody tr th:only-of-type {\n",
              "        vertical-align: middle;\n",
              "    }\n",
              "\n",
              "    .dataframe tbody tr th {\n",
              "        vertical-align: top;\n",
              "    }\n",
              "\n",
              "    .dataframe thead th {\n",
              "        text-align: right;\n",
              "    }\n",
              "</style>\n",
              "<table border=\"1\" class=\"dataframe\">\n",
              "  <thead>\n",
              "    <tr style=\"text-align: right;\">\n",
              "      <th></th>\n",
              "      <th>Roll No</th>\n",
              "      <th>Gender</th>\n",
              "      <th>Section</th>\n",
              "      <th>SSC Percentage</th>\n",
              "      <th>inter_Diploma_percentage</th>\n",
              "      <th>B.Tech_percentage</th>\n",
              "      <th>Backlogs</th>\n",
              "      <th>registered_for_ Placement_Training</th>\n",
              "      <th>placement status</th>\n",
              "    </tr>\n",
              "  </thead>\n",
              "  <tbody>\n",
              "    <tr>\n",
              "      <th>0</th>\n",
              "      <td>1</td>\n",
              "      <td>M</td>\n",
              "      <td>A</td>\n",
              "      <td>87.3</td>\n",
              "      <td>65.3</td>\n",
              "      <td>40.00</td>\n",
              "      <td>18</td>\n",
              "      <td>NO</td>\n",
              "      <td>Not placed</td>\n",
              "    </tr>\n",
              "    <tr>\n",
              "      <th>1</th>\n",
              "      <td>2</td>\n",
              "      <td>F</td>\n",
              "      <td>A</td>\n",
              "      <td>89.0</td>\n",
              "      <td>92.4</td>\n",
              "      <td>71.45</td>\n",
              "      <td>0</td>\n",
              "      <td>yes</td>\n",
              "      <td>Placed</td>\n",
              "    </tr>\n",
              "    <tr>\n",
              "      <th>2</th>\n",
              "      <td>3</td>\n",
              "      <td>F</td>\n",
              "      <td>A</td>\n",
              "      <td>67.0</td>\n",
              "      <td>68.0</td>\n",
              "      <td>45.26</td>\n",
              "      <td>13</td>\n",
              "      <td>yes</td>\n",
              "      <td>Not placed</td>\n",
              "    </tr>\n",
              "    <tr>\n",
              "      <th>3</th>\n",
              "      <td>4</td>\n",
              "      <td>M</td>\n",
              "      <td>A</td>\n",
              "      <td>71.0</td>\n",
              "      <td>70.4</td>\n",
              "      <td>36.47</td>\n",
              "      <td>17</td>\n",
              "      <td>yes</td>\n",
              "      <td>Not placed</td>\n",
              "    </tr>\n",
              "    <tr>\n",
              "      <th>4</th>\n",
              "      <td>5</td>\n",
              "      <td>M</td>\n",
              "      <td>A</td>\n",
              "      <td>NaN</td>\n",
              "      <td>65.5</td>\n",
              "      <td>42.52</td>\n",
              "      <td>17</td>\n",
              "      <td>yes</td>\n",
              "      <td>Not placed</td>\n",
              "    </tr>\n",
              "  </tbody>\n",
              "</table>\n",
              "</div>"
            ],
            "text/plain": [
              "   Roll No Gender  ... registered_for_ Placement_Training  placement status\n",
              "0        1      M  ...                                 NO        Not placed\n",
              "1        2      F  ...                                yes            Placed\n",
              "2        3      F  ...                                yes        Not placed\n",
              "3        4      M  ...                                yes        Not placed\n",
              "4        5      M  ...                                yes        Not placed\n",
              "\n",
              "[5 rows x 9 columns]"
            ]
          },
          "metadata": {
            "tags": []
          },
          "execution_count": 2
        }
      ]
    },
    {
      "cell_type": "markdown",
      "metadata": {
        "id": "yIFKDrHN04la"
      },
      "source": [
        "##1) Central Tendency-Mean,Median,Mode"
      ]
    },
    {
      "cell_type": "markdown",
      "metadata": {
        "id": "2vTGAB9D09Wr"
      },
      "source": [
        "###1.1) Calculate the mean & median of SSC percentage,Inter_Diploma_percentage and B.Tech_percentage"
      ]
    },
    {
      "cell_type": "code",
      "metadata": {
        "id": "mMrIKngz1IlX",
        "outputId": "eb5553aa-f1c7-4eaa-9696-381b4a6bcc0d",
        "colab": {
          "base_uri": "https://localhost:8080/",
          "height": 153
        }
      },
      "source": [
        "print(\"Mean of SSC score\",df[\"SSC Percentage\"].mean())\n",
        "print(\"Mean of inter_Diploma score\",df[\"inter_Diploma_percentage\"].mean())\n",
        "print(\"Mean of B.Tech score\",df[\"B.Tech_percentage\"].mean())\n",
        "print(\"\\n\")\n",
        "print(\"Median of SSC score\",df[\"SSC Percentage\"].median())\n",
        "print(\"Median of inter_Diploma score\",df[\"inter_Diploma_percentage\"].median())\n",
        "print(\"Median of B.Tech score\",df[\"B.Tech_percentage\"].median())"
      ],
      "execution_count": 3,
      "outputs": [
        {
          "output_type": "stream",
          "text": [
            "Mean of SSC score 80.47456896551722\n",
            "Mean of inter_Diploma score 80.77290598290598\n",
            "Mean of B.Tech score 62.9434188034188\n",
            "\n",
            "\n",
            "Median of SSC score 82.745\n",
            "Median of inter_Diploma score 83.6\n",
            "Median of B.Tech score 64.36\n"
          ],
          "name": "stdout"
        }
      ]
    },
    {
      "cell_type": "markdown",
      "metadata": {
        "id": "KppCg2_N1Scl"
      },
      "source": [
        "###1.2) Apply mode on Gender. Are there more male or female?"
      ]
    },
    {
      "cell_type": "code",
      "metadata": {
        "id": "h1XIhZbi1VXt",
        "outputId": "1f2fc470-2895-4daa-b52c-1aed6557dcb3",
        "colab": {
          "base_uri": "https://localhost:8080/",
          "height": 51
        }
      },
      "source": [
        "df[\"Gender\"].mode()"
      ],
      "execution_count": 4,
      "outputs": [
        {
          "output_type": "execute_result",
          "data": {
            "text/plain": [
              "0    M\n",
              "dtype: object"
            ]
          },
          "metadata": {
            "tags": []
          },
          "execution_count": 4
        }
      ]
    },
    {
      "cell_type": "markdown",
      "metadata": {
        "id": "3CKWa_iY1YuO"
      },
      "source": [
        "##2) Distribution of Data-Range,Interquartile range,Variance,Standard deviation,Correlation"
      ]
    },
    {
      "cell_type": "markdown",
      "metadata": {
        "id": "K5aUK0Vc1e01"
      },
      "source": [
        "###2.1) Range"
      ]
    },
    {
      "cell_type": "markdown",
      "metadata": {
        "id": "0nJNCxLT1ozG"
      },
      "source": [
        "Range defines the difference between the maximum and minimum value"
      ]
    },
    {
      "cell_type": "markdown",
      "metadata": {
        "id": "xUgvVXYt1r7U"
      },
      "source": [
        "What is the Range of SSC Percentage,inter_Diploma_percentage and B.Tech_percentage"
      ]
    },
    {
      "cell_type": "code",
      "metadata": {
        "id": "iMms7rOC1zxn",
        "outputId": "c78cc3e8-0577-4bb9-9800-fccccc90b915",
        "colab": {
          "base_uri": "https://localhost:8080/",
          "height": 119
        }
      },
      "source": [
        "print(\"Range in SSC Score Range\",df[[\"SSC Percentage\"]].max()-df[[\"SSC Percentage\"]].min())\n",
        "print(\"Range in inter Diploma Score Range\",df[[\"inter_Diploma_percentage\"]].max()-df[[\"inter_Diploma_percentage\"]].min())\n",
        "print(\"Range in B.tech score Range\",df[[\"B.Tech_percentage\"]].max()-df[[\"B.Tech_percentage\"]].min())"
      ],
      "execution_count": 5,
      "outputs": [
        {
          "output_type": "stream",
          "text": [
            "Range in SSC Score Range SSC Percentage    45.86\n",
            "dtype: float64\n",
            "Range in inter Diploma Score Range inter_Diploma_percentage    44.7\n",
            "dtype: float64\n",
            "Range in B.tech score Range B.Tech_percentage    56.9\n",
            "dtype: float64\n"
          ],
          "name": "stdout"
        }
      ]
    },
    {
      "cell_type": "markdown",
      "metadata": {
        "id": "tDcBzVwk18JD"
      },
      "source": [
        "###2.2) Interquartile range"
      ]
    },
    {
      "cell_type": "markdown",
      "metadata": {
        "id": "gU33vqFk1-zM"
      },
      "source": [
        "Interquartile is difference between 25th percentile element and 75th percentile element.This is considered important because,elements less than or greater than this range may have outliers."
      ]
    },
    {
      "cell_type": "markdown",
      "metadata": {
        "id": "QnVdzmQQ2EDV"
      },
      "source": [
        "Find the interquartile range of SSC percentage"
      ]
    },
    {
      "cell_type": "code",
      "metadata": {
        "id": "FmFqESgK2J20",
        "outputId": "66dd1175-4bf7-479c-f635-6d8f2a4d6782",
        "colab": {
          "base_uri": "https://localhost:8080/",
          "height": 68
        }
      },
      "source": [
        "Q1=df[\"SSC Percentage\"].quantile(0.34)\n",
        "print(\"Quartile 1 is \",Q1)\n",
        "Q3=df[\"SSC Percentage\"].quantile(0.87)\n",
        "print(\"Quartile 3 is\",Q3)\n",
        "IQR=Q3-Q1\n",
        "print(\"The inrequartile range is\",IQR)"
      ],
      "execution_count": 9,
      "outputs": [
        {
          "output_type": "stream",
          "text": [
            "Quartile 1 is  79.623\n",
            "Quartile 3 is 88.167\n",
            "The inrequartile range is 8.543999999999997\n"
          ],
          "name": "stdout"
        }
      ]
    },
    {
      "cell_type": "markdown",
      "metadata": {
        "id": "h-q-5dEH2PrO"
      },
      "source": [
        "###2.3) Standard deviation"
      ]
    },
    {
      "cell_type": "markdown",
      "metadata": {
        "id": "Cxq4XMfX2R7J"
      },
      "source": [
        "Find the standard deviation of SSC Percentage,inter_Diploma_percentage and B.Tech_Percentage"
      ]
    },
    {
      "cell_type": "code",
      "metadata": {
        "id": "igWsEJDT2Xqn",
        "outputId": "dad652c6-720b-4062-f866-76acb3065bf1",
        "colab": {
          "base_uri": "https://localhost:8080/",
          "height": 68
        }
      },
      "source": [
        "print(\"standard deviation of SSC Score is :\",df[\"SSC Percentage\"].std())\n",
        "print(\"standard deviation of inter Diploma Score is :\",df[\"inter_Diploma_percentage\"].std())\n",
        "print(\"standard deviation of B.Tech score is :\",df[\"B.Tech_percentage\"].std())"
      ],
      "execution_count": 7,
      "outputs": [
        {
          "output_type": "stream",
          "text": [
            "standard deviation of SSC Score is : 8.836078944698352\n",
            "standard deviation of inter Diploma Score is : 11.26724785566931\n",
            "standard deviation of B.Tech score is : 12.064305584885746\n"
          ],
          "name": "stdout"
        }
      ]
    },
    {
      "cell_type": "markdown",
      "metadata": {
        "id": "lGyVHYq32gYM"
      },
      "source": [
        "###2.4) Variance"
      ]
    },
    {
      "cell_type": "markdown",
      "metadata": {
        "id": "nourQ_1k2n67"
      },
      "source": [
        "Variance is simple square of standard deviation"
      ]
    },
    {
      "cell_type": "markdown",
      "metadata": {
        "id": "5St_VaWt2qDo"
      },
      "source": [
        "Find the Variance of SSC Percentage,inter_Diploma_percentage and B.Tech_percentage"
      ]
    },
    {
      "cell_type": "code",
      "metadata": {
        "id": "8H-k1Frm2tj7",
        "outputId": "8ed91eea-ce08-4086-c6e8-2597cc182f77",
        "colab": {
          "base_uri": "https://localhost:8080/",
          "height": 68
        }
      },
      "source": [
        "\n",
        "print(\"Variance of SSC Score is :\",df[\"SSC Percentage\"].var())\n",
        "print(\"Variance of inter Diploma Score is :\",df[\"inter_Diploma_percentage\"].var())\n",
        "print(\"Variance of B.Tech score is :\",df[\"B.Tech_percentage\"].var())"
      ],
      "execution_count": 8,
      "outputs": [
        {
          "output_type": "stream",
          "text": [
            "Variance of SSC Score is : 78.07629111694153\n",
            "Variance of inter Diploma Score is : 126.95087424108468\n",
            "Variance of B.Tech score is : 145.54746924550543\n"
          ],
          "name": "stdout"
        }
      ]
    },
    {
      "cell_type": "markdown",
      "metadata": {
        "id": "rcH4V-yF3odr"
      },
      "source": [
        "###2.5) Correlation"
      ]
    },
    {
      "cell_type": "markdown",
      "metadata": {
        "id": "mnEUcexG3s6q"
      },
      "source": [
        "\n",
        "Find the correlation between SSC Percentage, inter_Diploma_percentage and B.Tech Percentages"
      ]
    },
    {
      "cell_type": "code",
      "metadata": {
        "id": "jtkYonHT3wt2",
        "outputId": "7a4bcdfc-941e-46cc-b977-074ad0e5f08e",
        "colab": {
          "base_uri": "https://localhost:8080/",
          "height": 142
        }
      },
      "source": [
        "df[[\"SSC Percentage\",\"inter_Diploma_percentage\",\"B.Tech_percentage\"]].corr()"
      ],
      "execution_count": 10,
      "outputs": [
        {
          "output_type": "execute_result",
          "data": {
            "text/html": [
              "<div>\n",
              "<style scoped>\n",
              "    .dataframe tbody tr th:only-of-type {\n",
              "        vertical-align: middle;\n",
              "    }\n",
              "\n",
              "    .dataframe tbody tr th {\n",
              "        vertical-align: top;\n",
              "    }\n",
              "\n",
              "    .dataframe thead th {\n",
              "        text-align: right;\n",
              "    }\n",
              "</style>\n",
              "<table border=\"1\" class=\"dataframe\">\n",
              "  <thead>\n",
              "    <tr style=\"text-align: right;\">\n",
              "      <th></th>\n",
              "      <th>SSC Percentage</th>\n",
              "      <th>inter_Diploma_percentage</th>\n",
              "      <th>B.Tech_percentage</th>\n",
              "    </tr>\n",
              "  </thead>\n",
              "  <tbody>\n",
              "    <tr>\n",
              "      <th>SSC Percentage</th>\n",
              "      <td>1.000000</td>\n",
              "      <td>0.625586</td>\n",
              "      <td>0.492849</td>\n",
              "    </tr>\n",
              "    <tr>\n",
              "      <th>inter_Diploma_percentage</th>\n",
              "      <td>0.625586</td>\n",
              "      <td>1.000000</td>\n",
              "      <td>0.729697</td>\n",
              "    </tr>\n",
              "    <tr>\n",
              "      <th>B.Tech_percentage</th>\n",
              "      <td>0.492849</td>\n",
              "      <td>0.729697</td>\n",
              "      <td>1.000000</td>\n",
              "    </tr>\n",
              "  </tbody>\n",
              "</table>\n",
              "</div>"
            ],
            "text/plain": [
              "                          SSC Percentage  ...  B.Tech_percentage\n",
              "SSC Percentage                  1.000000  ...           0.492849\n",
              "inter_Diploma_percentage        0.625586  ...           0.729697\n",
              "B.Tech_percentage               0.492849  ...           1.000000\n",
              "\n",
              "[3 rows x 3 columns]"
            ]
          },
          "metadata": {
            "tags": []
          },
          "execution_count": 10
        }
      ]
    },
    {
      "cell_type": "markdown",
      "metadata": {
        "id": "Vc-yZl6A39v-"
      },
      "source": [
        "##3) Draw a box plot to demonstrate Range,Interquartile range."
      ]
    },
    {
      "cell_type": "markdown",
      "metadata": {
        "id": "q2uO72-94EPE"
      },
      "source": [
        "Use a box plot to explain the performance of placed vs unplaced students in B.Tech."
      ]
    },
    {
      "cell_type": "code",
      "metadata": {
        "id": "t5vTidnC4IMX",
        "outputId": "0cc90c5c-21e9-44da-f201-a39209620d5f",
        "colab": {
          "base_uri": "https://localhost:8080/",
          "height": 297
        }
      },
      "source": [
        "sns.boxplot(x=\"placement status\",y=\"B.Tech_percentage\",data=df)"
      ],
      "execution_count": 11,
      "outputs": [
        {
          "output_type": "execute_result",
          "data": {
            "text/plain": [
              "<matplotlib.axes._subplots.AxesSubplot at 0x7fdbf5c18e48>"
            ]
          },
          "metadata": {
            "tags": []
          },
          "execution_count": 11
        },
        {
          "output_type": "display_data",
          "data": {
            "image/png": "[encoded data removed]",
            "text/plain": [
              "<Figure size 432x288 with 1 Axes>"
            ]
          },
          "metadata": {
            "tags": [],
            "needs_background": "light"
          }
        }
      ]
    },
    {
      "cell_type": "markdown",
      "metadata": {
        "id": "SfrazgxS4ULJ"
      },
      "source": [
        "Here we observe that placed students are performing better than unplaced students\n",
        " \n",
        "*The range for unplaced students is approximately 32 to 75.\n",
        " \n",
        "*The range for placed students is approximately 65 to 88.\n",
        " \n",
        "*The interquartile range for unplaced students is approximately 55 to 65.\n",
        "\n",
        "*The interquartile range for placed students is approximately 72 to 76."
      ]
    },
    {
      "cell_type": "markdown",
      "metadata": {
        "id": "jAhF86JK4cB-"
      },
      "source": [
        "##4)Show the correlation between 2 variables using a scatter plot."
      ]
    },
    {
      "cell_type": "markdown",
      "metadata": {
        "id": "orTrmMuo4hx6"
      },
      "source": [
        "Find the correlation between SSC percentage and inter_Diploma_percentage by visual inspection using a scatter plot. What type of correlation do they have between them?"
      ]
    },
    {
      "cell_type": "code",
      "metadata": {
        "id": "ygKfFWCF4lNd",
        "outputId": "0af7fa3d-7056-4679-fcd9-2edea23123e3",
        "colab": {
          "base_uri": "https://localhost:8080/",
          "height": 282
        }
      },
      "source": [
        "plt.scatter(df[\"SSC Percentage\"],df[\"inter_Diploma_percentage\"])"
      ],
      "execution_count": 12,
      "outputs": [
        {
          "output_type": "execute_result",
          "data": {
            "text/plain": [
              "<matplotlib.collections.PathCollection at 0x7fdbf48c5c18>"
            ]
          },
          "metadata": {
            "tags": []
          },
          "execution_count": 12
        },
        {
          "output_type": "display_data",
          "data": {
            "image/png": "[encoded data removed]",
            "text/plain": [
              "<Figure size 432x288 with 1 Axes>"
            ]
          },
          "metadata": {
            "tags": [],
            "needs_background": "light"
          }
        }
      ]
    },
    {
      "cell_type": "markdown",
      "metadata": {
        "id": "GYg7W-lm4twc"
      },
      "source": [
        "##5) Draw a histogram to show how data is distributed."
      ]
    },
    {
      "cell_type": "markdown",
      "metadata": {
        "id": "Of1R9sOq4zdX"
      },
      "source": [
        "###5.1) Draw a histogram to show the distribution of SSC percentage. Most of the people got score in which range?"
      ]
    },
    {
      "cell_type": "code",
      "metadata": {
        "id": "hOTBJgBf4_bG",
        "outputId": "b1a51a46-7f12-465c-b180-2214fa11c1d9",
        "colab": {
          "base_uri": "https://localhost:8080/",
          "height": 381
        }
      },
      "source": [
        "bins=np.linspace(0,132,22)\n",
        "print(bins)\n",
        "plt.hist(df[\"SSC Percentage\"],bins,width=10)\n",
        "plt.xlabel(\"SSC Percentage\")\n"
      ],
      "execution_count": 13,
      "outputs": [
        {
          "output_type": "stream",
          "text": [
            "[  0.           6.28571429  12.57142857  18.85714286  25.14285714\n",
            "  31.42857143  37.71428571  44.          50.28571429  56.57142857\n",
            "  62.85714286  69.14285714  75.42857143  81.71428571  88.\n",
            "  94.28571429 100.57142857 106.85714286 113.14285714 119.42857143\n",
            " 125.71428571 132.        ]\n"
          ],
          "name": "stdout"
        },
        {
          "output_type": "execute_result",
          "data": {
            "text/plain": [
              "Text(0.5, 0, 'SSC Percentage')"
            ]
          },
          "metadata": {
            "tags": []
          },
          "execution_count": 13
        },
        {
          "output_type": "display_data",
          "data": {
            "image/png": "[encoded data removed]",
            "text/plain": [
              "<Figure size 432x288 with 1 Axes>"
            ]
          },
          "metadata": {
            "tags": [],
            "needs_background": "light"
          }
        }
      ]
    },
    {
      "cell_type": "markdown",
      "metadata": {
        "id": "3uABiCJ55NTw"
      },
      "source": [
        "###5.2) Draw a histogram to show the distribution of B.Tech percentage. Most of the people got a score in which range?"
      ]
    },
    {
      "cell_type": "code",
      "metadata": {
        "id": "8uGGavYc5QZ9",
        "outputId": "7819fb90-2dad-4e19-949e-d4442078ecab",
        "colab": {
          "base_uri": "https://localhost:8080/",
          "height": 450
        }
      },
      "source": [
        "bins=np.linspace(0,141,45)\n",
        "print(bins)\n",
        "plt.hist(df[\"B.Tech_percentage\"],bins,width=8)\n",
        "plt.xlabel(\"B.Tech_percentage\")"
      ],
      "execution_count": 14,
      "outputs": [
        {
          "output_type": "stream",
          "text": [
            "[  0.           3.20454545   6.40909091   9.61363636  12.81818182\n",
            "  16.02272727  19.22727273  22.43181818  25.63636364  28.84090909\n",
            "  32.04545455  35.25        38.45454545  41.65909091  44.86363636\n",
            "  48.06818182  51.27272727  54.47727273  57.68181818  60.88636364\n",
            "  64.09090909  67.29545455  70.5         73.70454545  76.90909091\n",
            "  80.11363636  83.31818182  86.52272727  89.72727273  92.93181818\n",
            "  96.13636364  99.34090909 102.54545455 105.75       108.95454545\n",
            " 112.15909091 115.36363636 118.56818182 121.77272727 124.97727273\n",
            " 128.18181818 131.38636364 134.59090909 137.79545455 141.        ]\n"
          ],
          "name": "stdout"
        },
        {
          "output_type": "execute_result",
          "data": {
            "text/plain": [
              "Text(0.5, 0, 'B.Tech_percentage')"
            ]
          },
          "metadata": {
            "tags": []
          },
          "execution_count": 14
        },
        {
          "output_type": "display_data",
          "data": {
            "image/png": "[encoded data removed]",
            "text/plain": [
              "<Figure size 432x288 with 1 Axes>"
            ]
          },
          "metadata": {
            "tags": [],
            "needs_background": "light"
          }
        }
      ]
    },
    {
      "cell_type": "markdown",
      "metadata": {
        "id": "PZMwapQ25bgl"
      },
      "source": [
        "###5.3) Draw a histogram to show the distribution of Intermediate percentage. Most of the people got score in which range?"
      ]
    },
    {
      "cell_type": "code",
      "metadata": {
        "id": "GLFyUEg25gtG",
        "outputId": "7acc4be7-bbea-4a55-9ade-8f95d4d73183",
        "colab": {
          "base_uri": "https://localhost:8080/",
          "height": 314
        }
      },
      "source": [
        "bins=np.linspace(0,100,11)\n",
        "print(bins)\n",
        "plt.hist(df[\"inter_Diploma_percentage\"],bins,width=8)\n",
        "plt.xlabel(\"inter_Diploma_percentage\")"
      ],
      "execution_count": 15,
      "outputs": [
        {
          "output_type": "stream",
          "text": [
            "[  0.  10.  20.  30.  40.  50.  60.  70.  80.  90. 100.]\n"
          ],
          "name": "stdout"
        },
        {
          "output_type": "execute_result",
          "data": {
            "text/plain": [
              "Text(0.5, 0, 'inter_Diploma_percentage')"
            ]
          },
          "metadata": {
            "tags": []
          },
          "execution_count": 15
        },
        {
          "output_type": "display_data",
          "data": {
            "image/png": "[encoded data removed]",
            "text/plain": [
              "<Figure size 432x288 with 1 Axes>"
            ]
          },
          "metadata": {
            "tags": [],
            "needs_background": "light"
          }
        }
      ]
    },
    {
      "cell_type": "markdown",
      "metadata": {
        "id": "kIy0hQ_w5oEw"
      },
      "source": [
        "##6) For the given data, show which attributes as a) continuous b) Ordered c) Binary"
      ]
    },
    {
      "cell_type": "code",
      "metadata": {
        "id": "Za9xiK9z55Uq",
        "outputId": "38311a37-aaf9-42a4-da3e-cef7f99a128c",
        "colab": {
          "base_uri": "https://localhost:8080/",
          "height": 187
        }
      },
      "source": [
        "df.nunique()"
      ],
      "execution_count": 16,
      "outputs": [
        {
          "output_type": "execute_result",
          "data": {
            "text/plain": [
              "Roll No                               117\n",
              "Gender                                  2\n",
              "Section                                 2\n",
              "SSC Percentage                         88\n",
              "inter_Diploma_percentage               99\n",
              "B.Tech_percentage                     106\n",
              "Backlogs                               22\n",
              "registered_for_ Placement_Training      2\n",
              "placement status                        2\n",
              "dtype: int64"
            ]
          },
          "metadata": {
            "tags": []
          },
          "execution_count": 16
        }
      ]
    },
    {
      "cell_type": "markdown",
      "metadata": {
        "id": "-_HPzZIz59KV"
      },
      "source": [
        "From the above Data,it is clear that Gender,Section,registered_for_Placement_Training,Placement status are binary attributes because they take only 2"
      ]
    },
    {
      "cell_type": "code",
      "metadata": {
        "id": "S4nXTO7k6A5f",
        "outputId": "1f4f2b56-28b1-43c4-d765-b5f4b265068c",
        "colab": {
          "base_uri": "https://localhost:8080/",
          "height": 187
        }
      },
      "source": [
        "df.dtypes"
      ],
      "execution_count": 17,
      "outputs": [
        {
          "output_type": "execute_result",
          "data": {
            "text/plain": [
              "Roll No                                 int64\n",
              "Gender                                 object\n",
              "Section                                object\n",
              "SSC Percentage                        float64\n",
              "inter_Diploma_percentage              float64\n",
              "B.Tech_percentage                     float64\n",
              "Backlogs                                int64\n",
              "registered_for_ Placement_Training     object\n",
              "placement status                       object\n",
              "dtype: object"
            ]
          },
          "metadata": {
            "tags": []
          },
          "execution_count": 17
        }
      ]
    },
    {
      "cell_type": "markdown",
      "metadata": {
        "id": "gelyW1NB6EtS"
      },
      "source": [
        "SSC Percentage,inter_Diploma_percentage and B.Tech_percentage are continuous and ordinal attributes.\n",
        "\n",
        "Backlogs can be ordianal.It cannot take float value and there will be a limiton number of backlogs."
      ]
    }
  ]
}