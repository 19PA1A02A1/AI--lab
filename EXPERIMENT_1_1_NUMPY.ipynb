{
  "nbformat": 4,
  "nbformat_minor": 0,
  "metadata": {
    "colab": {
      "name": "EXPERIMENT-1 1.NUMPY.ipynb",
      "provenance": [],
      "authorship_tag": "ABX9TyPZraEZAl3nzepcVpeeCeXp",
      "include_colab_link": true
    },
    "kernelspec": {
      "name": "python3",
      "display_name": "Python 3"
    }
  },
  "cells": [
    {
      "cell_type": "markdown",
      "metadata": {
        "id": "view-in-github",
        "colab_type": "text"
      },
      "source": [
        "<a href=\"https://colab.research.google.com/github/19PA1A02A1/AI--lab/blob/master/EXPERIMENT_1_1_NUMPY.ipynb\" target=\"_parent\"><img src=\"https://colab.research.google.com/assets/colab-badge.svg\" alt=\"Open In Colab\"/></a>"
      ]
    },
    {
      "cell_type": "code",
      "metadata": {
        "id": "oZ68P0V1lV06",
        "colab_type": "code",
        "colab": {}
      },
      "source": [
        "EXPERIMENT-1 1.NUMPY"
      ],
      "execution_count": null,
      "outputs": []
    },
    {
      "cell_type": "markdown",
      "metadata": {
        "id": "25kTH_Eulj4V",
        "colab_type": "text"
      },
      "source": [
        "i) Different ways to create NumPy arrays"
      ]
    },
    {
      "cell_type": "code",
      "metadata": {
        "id": "bGqtWZRNlpMy",
        "colab_type": "code",
        "colab": {
          "base_uri": "https://localhost:8080/",
          "height": 34
        },
        "outputId": "6d8a8179-d0ae-4ff7-c7c4-c02b81f6703f"
      },
      "source": [
        "import numpy as np\n",
        "a=np.array([4,5,6])\n",
        "print(a)"
      ],
      "execution_count": 1,
      "outputs": [
        {
          "output_type": "stream",
          "text": [
            "[4 5 6]\n"
          ],
          "name": "stdout"
        }
      ]
    },
    {
      "cell_type": "code",
      "metadata": {
        "id": "KQyJ_LTolzzJ",
        "colab_type": "code",
        "colab": {
          "base_uri": "https://localhost:8080/",
          "height": 51
        },
        "outputId": "fc82b931-89ad-4f66-a984-4e0939e3b245"
      },
      "source": [
        "a=np.array([[11,12],[13,14]])\n",
        "print(a)"
      ],
      "execution_count": 2,
      "outputs": [
        {
          "output_type": "stream",
          "text": [
            "[[11 12]\n",
            " [13 14]]\n"
          ],
          "name": "stdout"
        }
      ]
    },
    {
      "cell_type": "markdown",
      "metadata": {
        "id": "QseaeEGYl9rT",
        "colab_type": "text"
      },
      "source": [
        "ii) Add, remove, modify elements in an array."
      ]
    },
    {
      "cell_type": "code",
      "metadata": {
        "id": "D_bXM3h_l-4d",
        "colab_type": "code",
        "colab": {
          "base_uri": "https://localhost:8080/",
          "height": 34
        },
        "outputId": "9162dcf9-5050-4c37-c8b1-4b16a8ae2156"
      },
      "source": [
        "newArray = np.append(a,[22,10,36])\n",
        "print(newArray)"
      ],
      "execution_count": 3,
      "outputs": [
        {
          "output_type": "stream",
          "text": [
            "[11 12 13 14 22 10 36]\n"
          ],
          "name": "stdout"
        }
      ]
    },
    {
      "cell_type": "code",
      "metadata": {
        "id": "kBhM4mnSmFlm",
        "colab_type": "code",
        "colab": {
          "base_uri": "https://localhost:8080/",
          "height": 34
        },
        "outputId": "7990664f-188e-4748-83ac-280c03a9093b"
      },
      "source": [
        "import numpy as np\n",
        "l=np.array([5,10,4,3,1])\n",
        "l=np.delete(l,4)\n",
        "print(l)"
      ],
      "execution_count": 4,
      "outputs": [
        {
          "output_type": "stream",
          "text": [
            "[ 5 10  4  3]\n"
          ],
          "name": "stdout"
        }
      ]
    },
    {
      "cell_type": "code",
      "metadata": {
        "id": "Yx9f8nIxmOgE",
        "colab_type": "code",
        "colab": {
          "base_uri": "https://localhost:8080/",
          "height": 34
        },
        "outputId": "1828cad2-95f1-43ab-e0c8-6fb762e92eea"
      },
      "source": [
        "b=np.array([8,5,4,1,3,7])\n",
        "b[b<2]=-1\n",
        "print(b)"
      ],
      "execution_count": 5,
      "outputs": [
        {
          "output_type": "stream",
          "text": [
            "[ 8  5  4 -1  3  7]\n"
          ],
          "name": "stdout"
        }
      ]
    },
    {
      "cell_type": "markdown",
      "metadata": {
        "id": "jEnjnjEEmUSU",
        "colab_type": "text"
      },
      "source": [
        "iii) Arithmetic operations on NumPy array"
      ]
    },
    {
      "cell_type": "code",
      "metadata": {
        "id": "uuXLgKAqmY25",
        "colab_type": "code",
        "colab": {
          "base_uri": "https://localhost:8080/",
          "height": 323
        },
        "outputId": "c31b561e-48eb-48a6-ecb3-95c658f7b0af"
      },
      "source": [
        "import numpy as np\n",
        "v=np.random.random((3,3))\n",
        "n=np.random.random((3,3))\n",
        "sum=np.add(v,n)\n",
        "diff=np.subtract(v,n)\n",
        "prod=np.multiply(v,n)\n",
        "quo=np.divide(v,n)\n",
        "mod=np.mod(v,n)\n",
        "pow=np.power(v,n)\n",
        "print(sum)\n",
        "print(diff)\n",
        "print(prod)\n",
        "print(quo)\n",
        "print(mod)\n",
        "print(pow)"
      ],
      "execution_count": 6,
      "outputs": [
        {
          "output_type": "stream",
          "text": [
            "[[1.02056093 1.42925801 0.42284601]\n",
            " [0.96266966 0.19933528 1.7089314 ]\n",
            " [0.31731747 0.65806742 1.02295557]]\n",
            "[[-0.93046947 -0.2053283   0.10134263]\n",
            " [-0.02147519  0.05483942 -0.02376405]\n",
            " [-0.07368908 -0.2439553   0.01429999]]\n",
            "[[0.04394279 0.50015468 0.0421321 ]\n",
            " [0.23156792 0.0091818  0.72997045]\n",
            " [0.02381507 0.09338464 0.2615584 ]]\n",
            "[[0.04617634 0.74877032 1.63042961]\n",
            " [0.95635767 1.75904491 0.97256985]\n",
            " [0.62308009 0.45909279 1.02835455]]\n",
            "[[0.04504573 0.61196485 0.10134263]\n",
            " [0.47059724 0.05483942 0.84258368]\n",
            " [0.1218142  0.20705606 0.01429999]]\n",
            "[[0.04859802 0.66941126 0.80633605]\n",
            " [0.69011232 0.86153564 0.8620948 ]\n",
            " [0.66259926 0.49152759 0.71811474]]\n"
          ],
          "name": "stdout"
        }
      ]
    },
    {
      "cell_type": "markdown",
      "metadata": {
        "id": "daePIJx9nAtR",
        "colab_type": "text"
      },
      "source": [
        "iv.Slicing and iterating of numpy arrays"
      ]
    },
    {
      "cell_type": "markdown",
      "metadata": {
        "id": "MA5jvm4QnBhj",
        "colab_type": "text"
      },
      "source": [
        "slicing"
      ]
    },
    {
      "cell_type": "code",
      "metadata": {
        "id": "rSdaDaI2nFPY",
        "colab_type": "code",
        "colab": {
          "base_uri": "https://localhost:8080/",
          "height": 34
        },
        "outputId": "1d842cea-2bc8-45ec-ebbb-6d00b8d760bb"
      },
      "source": [
        "import numpy as np\n",
        "arr=np.array([2,4,6,8,9,3])\n",
        "print(arr[2:6])"
      ],
      "execution_count": 7,
      "outputs": [
        {
          "output_type": "stream",
          "text": [
            "[6 8 9 3]\n"
          ],
          "name": "stdout"
        }
      ]
    },
    {
      "cell_type": "markdown",
      "metadata": {
        "id": "3sULIXRnnKmg",
        "colab_type": "text"
      },
      "source": [
        "Iterating"
      ]
    },
    {
      "cell_type": "code",
      "metadata": {
        "id": "hzcE3F3pnQKO",
        "colab_type": "code",
        "colab": {
          "base_uri": "https://localhost:8080/",
          "height": 119
        },
        "outputId": "36a6dd3c-44f0-443a-d236-283b3c82ce90"
      },
      "source": [
        "for i in arr:\n",
        " print(i)"
      ],
      "execution_count": 9,
      "outputs": [
        {
          "output_type": "stream",
          "text": [
            "2\n",
            "4\n",
            "6\n",
            "8\n",
            "9\n",
            "3\n"
          ],
          "name": "stdout"
        }
      ]
    },
    {
      "cell_type": "markdown",
      "metadata": {
        "id": "QzinOXFEnj6U",
        "colab_type": "text"
      },
      "source": [
        "V) Matrix operations on NumPy arrays"
      ]
    },
    {
      "cell_type": "code",
      "metadata": {
        "id": "XeMv_mCEnlHL",
        "colab_type": "code",
        "colab": {
          "base_uri": "https://localhost:8080/",
          "height": 119
        },
        "outputId": "b6d400b6-ec20-4903-ee49-df5b08fa04c7"
      },
      "source": [
        "import numpy as np\n",
        "v=np.array([[3,6],[5,4]])\n",
        "i=np.array([[5,25],[2,24]])\n",
        "print(np.add(v,i))\n",
        "print(np.subtract(v,i))\n",
        "print(np.divide(v,i))"
      ],
      "execution_count": 10,
      "outputs": [
        {
          "output_type": "stream",
          "text": [
            "[[ 8 31]\n",
            " [ 7 28]]\n",
            "[[ -2 -19]\n",
            " [  3 -20]]\n",
            "[[0.6        0.24      ]\n",
            " [2.5        0.16666667]]\n"
          ],
          "name": "stdout"
        }
      ]
    }
  ]
}